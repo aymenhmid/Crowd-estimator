{
  "nbformat": 4,
  "nbformat_minor": 0,
  "metadata": {
    "colab": {
      "name": "Attribute_extractor.ipynb",
      "provenance": [],
      "collapsed_sections": [],
      "toc_visible": true,
      "mount_file_id": "1nlaNpDEK2vQw8sEpitx1r9kFE-EbUXyu",
      "authorship_tag": "ABX9TyOOjGwEfHwVOvI1AoBbv70w",
      "include_colab_link": true
    },
    "kernelspec": {
      "name": "python3",
      "display_name": "Python 3"
    },
    "language_info": {
      "name": "python"
    },
    "accelerator": "GPU"
  },
  "cells": [
    {
      "cell_type": "markdown",
      "metadata": {
        "id": "view-in-github",
        "colab_type": "text"
      },
      "source": [
        "<a href=\"https://colab.research.google.com/github/aymenhmid/Crowd-estimator/blob/master/Attribute_extractor.ipynb\" target=\"_parent\"><img src=\"https://colab.research.google.com/assets/colab-badge.svg\" alt=\"Open In Colab\"/></a>"
      ]
    },
    {
      "cell_type": "markdown",
      "metadata": {
        "id": "uH4fKQj1sh34"
      },
      "source": [
        "#import packages"
      ]
    },
    {
      "cell_type": "code",
      "metadata": {
        "id": "_CZGmjA6s5f4",
        "colab": {
          "base_uri": "https://localhost:8080/"
        },
        "outputId": "f3f18aa4-098d-4e6b-b63a-ec99c224a81c"
      },
      "source": [
        "from bs4 import BeautifulSoup\n",
        "import re\n",
        "from nltk.tokenize import wordpunct_tokenize\n",
        "import nltk\n",
        "from nltk.tokenize import RegexpTokenizer\n",
        "nltk.download('punkt')\n",
        "import pandas as pd"
      ],
      "execution_count": null,
      "outputs": [
        {
          "output_type": "stream",
          "text": [
            "[nltk_data] Downloading package punkt to /root/nltk_data...\n",
            "[nltk_data]   Unzipping tokenizers/punkt.zip.\n"
          ],
          "name": "stdout"
        }
      ]
    },
    {
      "cell_type": "code",
      "metadata": {
        "id": "iQbcsXKwz789"
      },
      "source": [
        "!pip install -U nlpcube\n",
        "from cube.api import Cube\n",
        "\n",
        "cube=Cube(verbose=True)\n",
        "cube.load(\"fr\")"
      ],
      "execution_count": null,
      "outputs": []
    },
    {
      "cell_type": "code",
      "metadata": {
        "id": "X_gp8A020CAD"
      },
      "source": [
        "!pip install transformers\n",
        "from transformers import pipeline\n",
        "classifier = pipeline('sentiment-analysis', model=\"nlptown/bert-base-multilingual-uncased-sentiment\")"
      ],
      "execution_count": null,
      "outputs": []
    },
    {
      "cell_type": "code",
      "metadata": {
        "id": "PvrZDMV-Be9-"
      },
      "source": [
        "!pip install  -U spacy"
      ],
      "execution_count": null,
      "outputs": []
    },
    {
      "cell_type": "code",
      "metadata": {
        "id": "7CZQzJF4BmAD"
      },
      "source": [
        "!python -m spacy download fr_core_news_lg"
      ],
      "execution_count": null,
      "outputs": []
    },
    {
      "cell_type": "markdown",
      "metadata": {
        "id": "R7rbiwdi_zx0"
      },
      "source": [
        "#Data_Processing"
      ]
    },
    {
      "cell_type": "code",
      "metadata": {
        "id": "0wscS7pgTYqP"
      },
      "source": [
        "s9_data=pd.read_csv('/content/drive/MyDrive/s9.csv')\n",
        "s99_data=pd.read_csv('/content/drive/MyDrive/s99.csv')\n",
        "Samsung_dataset=pd.concat([s9_data, s99_data], ignore_index=True)"
      ],
      "execution_count": null,
      "outputs": []
    },
    {
      "cell_type": "code",
      "metadata": {
        "id": "xdOUzV-bv_ox"
      },
      "source": [
        "my_data=pd.read_csv('/content/drive/MyDrive/phones.csv')\n",
        "my_data=my_data.dropna()\n",
        "my_data=my_data.drop_duplicates()\n",
        "my_data=my_data.reset_index()"
      ],
      "execution_count": null,
      "outputs": []
    },
    {
      "cell_type": "code",
      "metadata": {
        "id": "LVJh01MMT0ZC"
      },
      "source": [
        "def prep(review):\n",
        "    \n",
        "    # Remove HTML tags.\n",
        "    review = BeautifulSoup(review,'html.parser').get_text()\n",
        "    # Remove non-letters\n",
        "    review = re.sub(r',[^ \\nA-Za-z0-9À-ÖØ-öø-ÿЀéè-ӿ/]+.', \"\", review)\n",
        "    # Lower case\n",
        "    review = review.lower()\n",
        "    review=review.strip()\n",
        "    # Tokenize to each word.\n",
        "    token=wordpunct_tokenize(review)\n",
        "    #token = nltk.word_tokenize(review,language='french')\n",
        "    # Join the words back into one string separated by space, and return the result.\n",
        "    return \"\".join(review)\n"
      ],
      "execution_count": null,
      "outputs": []
    },
    {
      "cell_type": "code",
      "metadata": {
        "id": "uX9VRrgsvG99"
      },
      "source": [
        "#clean_comments=[]\n",
        "#for review in Samsung_dataset['comment']:\n",
        "  #x=prep(review)\n",
        "  #clean_comments.append(x)\n",
        "#Samsung_dataset['clean']=Samsung_dataset['comment'].apply(prep)"
      ],
      "execution_count": null,
      "outputs": []
    },
    {
      "cell_type": "code",
      "metadata": {
        "id": "XHtgAhDfjVRW"
      },
      "source": [
        "clean_comments=[]\n",
        "for review in my_data['Comment']:\n",
        "  x=prep(review)\n",
        "  clean_comments.append(x)\n",
        "my_data['clean']=my_data['Comment'].apply(prep)"
      ],
      "execution_count": null,
      "outputs": []
    },
    {
      "cell_type": "code",
      "metadata": {
        "colab": {
          "base_uri": "https://localhost:8080/",
          "height": 52
        },
        "id": "bwlaCSyjXazE",
        "outputId": "f72d5296-5b1c-44e5-9efd-d303bd71b498"
      },
      "source": [
        "my_data['clean'][4]"
      ],
      "execution_count": null,
      "outputs": [
        {
          "output_type": "execute_result",
          "data": {
            "application/vnd.google.colaboratory.intrinsic+json": {
              "type": "string"
            },
            "text/plain": [
              "\"excellent rapport qualité prix, téléphone fluide et sans trop de surcouche. pas le meilleur appareil photo mais pour le prix c'est normal\""
            ]
          },
          "metadata": {
            "tags": []
          },
          "execution_count": 25
        }
      ]
    },
    {
      "cell_type": "markdown",
      "metadata": {
        "id": "ljxImOtJUf2b"
      },
      "source": [
        "#Extraction"
      ]
    },
    {
      "cell_type": "code",
      "metadata": {
        "id": "Qz0fjd4GV8JK"
      },
      "source": [
        "fr_stopword_list=['un','qui','alors','au','aussi','autre','autres','avant','avec','avoir'\n",
        "'car','ce','cela','ces','ceux','chaque','ci','comme','comment','dans','des','du',\n",
        "'dedans','dehors','depuis','devrait','doit','donc','dos','début','elle','elles','en','encore','essai',\n",
        "'est','et','fois','font','hors','ici','il','ils','je','première','1er','2019','de','ce',\n",
        "'cette','aux','récent','précédentes','.',',',':','!','?','la','le','boulanger',\n",
        "'la','le','les','leur','là','qualité','vraiment','jour',\"téléphone\",\"qualité\",\n",
        "\"appareil\",\"sont\",\"rapport\",'smartphone','telephone','samsung','produit','jour','mois','achat','point'\n",
        "'ma','maintenant','mais','mes','mien','moins','mon','mot','même','ni','rien','fait','achat','sont',\n",
        "'nommés','notre','nous','ou','où','recommande','apple','xiaomi',\n",
        "'par','parce','pas','peut','peu','plupart','pour','pourquoi','quand','que','quel','quelle',\n",
        "'quelles','quels','qui','sa','sans','ses','seulement','si','sien','sous','soyez','suis','une','les','\\\\','sujet','sur','ta','tandis','tellement','tels',\n",
        "'tes','ton','tous','tout','après','samsung','afin','téléphone','plus','produit',\n",
        "'smartphone','iphone','bien','appareil','rapport','mois','ans','ai','ne','galaxie','galaxy']"
      ],
      "execution_count": null,
      "outputs": []
    },
    {
      "cell_type": "code",
      "metadata": {
        "id": "hChs5fuJXDKM"
      },
      "source": [
        "def extract(reviews_list):\n",
        "  #Tags=['ADJ','NOUN']\n",
        " #reviews_list=list(Samsung_dataset['clean'][1001:])\n",
        " feature_list1=[]\n",
        "\n",
        " for review in reviews_list:\n",
        "  sentences=cube(review)\n",
        "  for s in sentences:\n",
        "    for i in range(1,len(s)-1):\n",
        "      if (s[i].upos=='ADJ' and s[i-1].upos=='NOUN') and (s[i].word not in fr_stopword_list):\n",
        "        feature_list1.append(s[i-1].word+' '+s[i].word)\n",
        "      elif (s[i].upos=='ADJ' and s[i+1].upos=='NOUN')  and (s[i].word not in fr_stopword_list):\n",
        "        feature_list1.append(s[i].word+' '+s[i+1].word)\n",
        "      elif (s[i].upos=='NOUN' and s[i-1].upos=='ADJ') and (s[i].word not in fr_stopword_list):\n",
        "        feature_list1.append(s[i-1].word+' '+s[i].word)\n",
        "\n",
        "\n",
        "      elif (s[i].upos=='NOUN' and s[i+1].upos=='ADJ') and (s[i].word not in fr_stopword_list):\n",
        "        feature_list1.append(s[i].word+' '+s[i+1].word)\n",
        "      elif (s[i].word=='est') and (s[i+1].upos=='ADJ') and (s[i-1].upos=='NOUN'):\n",
        "        feature_list1.append(s[i-1].word+' '+s[i+1].word)\n",
        "      elif s[i].upos=='ADV' and s[i-1].upos=='NOUN' and s[i+1].upos=='ADJ':\n",
        "        feature_list1.append(s[i-1].word+' '+s[i].word+' '+s[i+1].word)\n",
        " feature_list=list(dict.fromkeys(feature_list1))\n",
        "\n",
        " return feature_list"
      ],
      "execution_count": null,
      "outputs": []
    },
    {
      "cell_type": "code",
      "metadata": {
        "id": "L_cEj0cpvcr1"
      },
      "source": [
        "L=extract(list(my_data['clean'][0:20]))"
      ],
      "execution_count": null,
      "outputs": []
    },
    {
      "cell_type": "code",
      "metadata": {
        "id": "MrnVF2BsVNIt"
      },
      "source": [
        "L"
      ],
      "execution_count": null,
      "outputs": []
    },
    {
      "cell_type": "code",
      "metadata": {
        "id": "xmXEIcv7VrDY"
      },
      "source": [
        "comments=list(my_data['Comment'])"
      ],
      "execution_count": null,
      "outputs": []
    },
    {
      "cell_type": "code",
      "metadata": {
        "id": "asN3kwkcVmMc"
      },
      "source": [
        "for s in L:\n",
        "  if s in comments[i]"
      ],
      "execution_count": null,
      "outputs": []
    },
    {
      "cell_type": "code",
      "metadata": {
        "id": "6MLYKQgYWjSh"
      },
      "source": [
        "for w in L:\n",
        " pokemon_games = my_data.loc[my_data['clean'].str.contains('bel écran', case=False)]"
      ],
      "execution_count": null,
      "outputs": []
    },
    {
      "cell_type": "code",
      "metadata": {
        "id": "xw4VhBI4X3V0"
      },
      "source": [
        "pokemon_games=pokemon_games.drop_duplicates()"
      ],
      "execution_count": null,
      "outputs": []
    },
    {
      "cell_type": "code",
      "metadata": {
        "colab": {
          "base_uri": "https://localhost:8080/",
          "height": 448
        },
        "id": "DOLbBDSlWrMO",
        "outputId": "72987fd6-7bf5-49b3-d7de-0c9250a00446"
      },
      "source": [
        "pokemon_games"
      ],
      "execution_count": null,
      "outputs": [
        {
          "output_type": "execute_result",
          "data": {
            "text/html": [
              "<div>\n",
              "<style scoped>\n",
              "    .dataframe tbody tr th:only-of-type {\n",
              "        vertical-align: middle;\n",
              "    }\n",
              "\n",
              "    .dataframe tbody tr th {\n",
              "        vertical-align: top;\n",
              "    }\n",
              "\n",
              "    .dataframe thead th {\n",
              "        text-align: right;\n",
              "    }\n",
              "</style>\n",
              "<table border=\"1\" class=\"dataframe\">\n",
              "  <thead>\n",
              "    <tr style=\"text-align: right;\">\n",
              "      <th></th>\n",
              "      <th>index</th>\n",
              "      <th>Comment</th>\n",
              "      <th>Date</th>\n",
              "      <th>ID</th>\n",
              "      <th>Rating</th>\n",
              "      <th>Title</th>\n",
              "      <th>category</th>\n",
              "      <th>name</th>\n",
              "      <th>price</th>\n",
              "      <th>clean</th>\n",
              "    </tr>\n",
              "  </thead>\n",
              "  <tbody>\n",
              "    <tr>\n",
              "      <th>19</th>\n",
              "      <td>41</td>\n",
              "      <td>LE VENDEUR S4EST CHARGE DE MISE EN ROURE</td>\n",
              "      <td>2021-03-25</td>\n",
              "      <td>1156591.0</td>\n",
              "      <td>5.0</td>\n",
              "      <td>BON</td>\n",
              "      <td>high-tech</td>\n",
              "      <td>Smartphone Samsung Galaxy A12 Noir | Boulanger</td>\n",
              "      <td>189.0</td>\n",
              "      <td>le vendeur s4est charge de mise en roure</td>\n",
              "    </tr>\n",
              "    <tr>\n",
              "      <th>1672</th>\n",
              "      <td>1785</td>\n",
              "      <td>LE VENDEUR S4EST CHARGE DE MISE EN ROURE</td>\n",
              "      <td>2021-03-25</td>\n",
              "      <td>1156593.0</td>\n",
              "      <td>5.0</td>\n",
              "      <td>BON</td>\n",
              "      <td>high-tech</td>\n",
              "      <td>Smartphone Samsung Galaxy A12 Bleu | Boulanger</td>\n",
              "      <td>189.0</td>\n",
              "      <td>le vendeur s4est charge de mise en roure</td>\n",
              "    </tr>\n",
              "    <tr>\n",
              "      <th>19465</th>\n",
              "      <td>20181</td>\n",
              "      <td>LE VENDEUR S4EST CHARGE DE MISE EN ROURE</td>\n",
              "      <td>2021-03-25</td>\n",
              "      <td>1156592.0</td>\n",
              "      <td>5.0</td>\n",
              "      <td>BON</td>\n",
              "      <td>high-tech</td>\n",
              "      <td>Smartphone Samsung Galaxy A12 Blanc | Boulanger</td>\n",
              "      <td>189.0</td>\n",
              "      <td>le vendeur s4est charge de mise en roure</td>\n",
              "    </tr>\n",
              "  </tbody>\n",
              "</table>\n",
              "</div>"
            ],
            "text/plain": [
              "       index  ...                                     clean\n",
              "19        41  ...  le vendeur s4est charge de mise en roure\n",
              "1672    1785  ...  le vendeur s4est charge de mise en roure\n",
              "19465  20181  ...  le vendeur s4est charge de mise en roure\n",
              "\n",
              "[3 rows x 10 columns]"
            ]
          },
          "metadata": {
            "tags": []
          },
          "execution_count": 21
        }
      ]
    },
    {
      "cell_type": "markdown",
      "metadata": {
        "id": "WRn952OAcjR_"
      },
      "source": [
        "#Get-sent"
      ]
    },
    {
      "cell_type": "code",
      "metadata": {
        "id": "OTD-rG5Hclcc"
      },
      "source": [
        "def get_sentiment(text):\n",
        "  sent = classifier(text)\n",
        "  #print(sent)\n",
        "  label,score = sent[0]['label'],sent[0]['score']\n",
        "  if label == '1 star' or label == '2 stars':\n",
        "    return \"Negative\"\n",
        "  elif label == '3 stars':\n",
        "    return \"Neutre\"\n",
        "  elif label == '4 stars' or label=='5 stars':\n",
        "    return \"Positive\"\n"
      ],
      "execution_count": null,
      "outputs": []
    },
    {
      "cell_type": "code",
      "metadata": {
        "id": "EsHdZbYweEU_"
      },
      "source": [
        "sent_list=[]\n",
        "for w in L:\n",
        "  x=get_sentiment(w)\n",
        "  sent_list.append(x)"
      ],
      "execution_count": null,
      "outputs": []
    },
    {
      "cell_type": "code",
      "metadata": {
        "id": "-SyZ7kcEevSp"
      },
      "source": [
        "labels_dict=dict(zip(L, sent_list))"
      ],
      "execution_count": null,
      "outputs": []
    },
    {
      "cell_type": "code",
      "metadata": {
        "colab": {
          "base_uri": "https://localhost:8080/"
        },
        "id": "u-avY4LlfCND",
        "outputId": "d516e376-654e-4f54-b9f0-95967ff3965b"
      },
      "source": [
        "labels_dict.items()"
      ],
      "execution_count": null,
      "outputs": [
        {
          "output_type": "execute_result",
          "data": {
            "text/plain": [
              "dict_items([('bon produit', 'Positive'), ('caractéristiques techniques', 'Positive'), ('bonnes qualités', 'Positive'), ('gamme moyen', 'Neutre'), ('téléphone fluide', 'Positive'), ('meilleur appareil', 'Positive'), ('bel écran', 'Positive'), ('prix abordable', 'Positive'), ('grand smartphone', 'Positive'), ('prix mini', 'Positive'), ('usage fréquent', 'Neutre'), ('bon rapport', 'Positive'), ('meilleur rapport', 'Positive'), ('petit livret', 'Neutre'), ('téléphone portable', 'Positive'), ('vendeur s4est', 'Positive')])"
            ]
          },
          "metadata": {
            "tags": []
          },
          "execution_count": 28
        }
      ]
    },
    {
      "cell_type": "code",
      "metadata": {
        "id": "kt3MWKRxgagV"
      },
      "source": [
        "import re\n",
        "my_data['target']=[]\n",
        "patterns=L\n",
        "for w,p in zip(my_data['clean'], L):\n",
        "\n",
        "  print('looking for match')\n",
        "  if re.search(p,w):\n",
        "    \n",
        "    "
      ],
      "execution_count": null,
      "outputs": []
    },
    {
      "cell_type": "markdown",
      "metadata": {
        "id": "8bfmO5GNo1bg"
      },
      "source": [
        "#Freq_analysis"
      ]
    },
    {
      "cell_type": "code",
      "metadata": {
        "id": "D6CkHKPNkB-f"
      },
      "source": [
        "#Apply lemmatization\n",
        "import spacy\n",
        "import fr_core_news_lg\n",
        "def lemmatization(L):\n",
        "#import fr_core_news_md\n",
        " attrs=[]\n",
        " nlp =fr_core_news_lg.load()\n",
        " for rev in L:\n",
        "\n",
        "  doc = nlp(rev)\n",
        "  for token in doc:\n",
        "    if (token.pos_=='NOUN') and (len(token.text)>=3):\n",
        "     attrs.append(token.lemma_)\n",
        " return attrs\n",
        "    #print(token, token.lemma_)"
      ],
      "execution_count": null,
      "outputs": []
    },
    {
      "cell_type": "code",
      "metadata": {
        "id": "ehGIZQ7WKrAe"
      },
      "source": [
        "x=lemmatization(L)"
      ],
      "execution_count": null,
      "outputs": []
    },
    {
      "cell_type": "code",
      "metadata": {
        "colab": {
          "base_uri": "https://localhost:8080/",
          "height": 583
        },
        "id": "X-LPI0owotPl",
        "outputId": "3ebebe6f-566f-4ad0-92d8-732dffb1c0b9"
      },
      "source": [
        "import matplotlib.pyplot as plt\n",
        "import nltk\n",
        "import seaborn as sns\n",
        "%matplotlib inline\n",
        "sns.set(rc={'figure.figsize':(11.7,8.27)})\n",
        "sns.set_style('darkgrid')\n",
        "nlp_words=nltk.FreqDist(x)\n",
        "nlp_words.plot(20)"
      ],
      "execution_count": null,
      "outputs": [
        {
          "output_type": "display_data",
          "data": {
            "image/png": "[encoded data removed]",
            "text/plain": [
              "<Figure size 842.4x595.44 with 1 Axes>"
            ]
          },
          "metadata": {
            "tags": []
          }
        }
      ]
    },
    {
      "cell_type": "code",
      "metadata": {
        "colab": {
          "base_uri": "https://localhost:8080/",
          "height": 500
        },
        "id": "BnQIA2-upEhI",
        "outputId": "afd1a0e6-2556-4ce3-c0d5-dfea54019d37"
      },
      "source": [
        "from collections import Counter\n",
        "import numpy as np\n",
        "import matplotlib.pyplot as plt\n",
        "\n",
        "counts = dict(Counter(x).most_common(10))\n",
        "\n",
        "labels, values = zip(*counts.items())\n",
        "\n",
        "# sort your values in descending order\n",
        "indSort = np.argsort(values)[::-1]\n",
        "\n",
        "# rearrange your data\n",
        "labels = np.array(labels)[indSort]\n",
        "values = np.array(values)[indSort]\n",
        "\n",
        "indexes = np.arange(len(labels))\n",
        "\n",
        "bar_width = 0.5\n",
        "\n",
        "plt.bar(indexes, values)\n",
        "\n",
        "# add labels\n",
        "plt.xticks(indexes + bar_width, labels)\n",
        "plt.show()"
      ],
      "execution_count": null,
      "outputs": [
        {
          "output_type": "display_data",
          "data": {
            "image/png": "[encoded data removed]",
            "text/plain": [
              "<Figure size 842.4x595.44 with 1 Axes>"
            ]
          },
          "metadata": {
            "tags": []
          }
        }
      ]
    },
    {
      "cell_type": "code",
      "metadata": {
        "id": "4csfQeWAqPIq"
      },
      "source": [
        "#TF-IDF\n",
        "from sklearn.feature_extraction.text import TfidfTransformer \n",
        "from sklearn.feature_extraction.text import CountVectorizer\n",
        "import pandas as pd \n",
        "def tf_idf(l):\n",
        " \n",
        "#instantiate CountVectorizer() \n",
        " l=lemmatization(L)\n",
        " cv=CountVectorizer(l,stop_words=fr_stopword_list) \n",
        " \n",
        "# this steps generates word counts for the words in your docs \n",
        " word_count_vector=cv.fit_transform(l)\n",
        " tfidf_transformer=TfidfTransformer(smooth_idf=True,use_idf=True) \n",
        " tfidf_transformer.fit(word_count_vector)\n",
        "# print idf values \n",
        " df_idf = pd.DataFrame(tfidf_transformer.idf_, index=cv.get_feature_names(),columns=[\"tf_idf_weights\"]) \n",
        " \n",
        "# sort ascending \n",
        " df=df_idf.sort_values(by=['tf_idf_weights'])[0:12]\n",
        " \n",
        " return list(df.index)\n"
      ],
      "execution_count": null,
      "outputs": []
    },
    {
      "cell_type": "code",
      "metadata": {
        "id": "Upht11-_TvtO"
      },
      "source": [
        "tf_idf(x)"
      ],
      "execution_count": null,
      "outputs": []
    },
    {
      "cell_type": "code",
      "metadata": {
        "id": "-C_p6-0Y2ViS"
      },
      "source": [
        "freq_features=[]\n",
        "filtered_features=tf_idf(x)\n",
        "\n",
        "for i in range(0,len(L)):\n",
        "  t=L[i].split()\n",
        "  for w in t:\n",
        "    if w in filtered_features:\n",
        "\n",
        "      freq_features.append((L[i].replace(w,''),w))"
      ],
      "execution_count": null,
      "outputs": []
    },
    {
      "cell_type": "code",
      "metadata": {
        "id": "NUIlXsAWNvAU"
      },
      "source": [
        "freq_features1=[]\n",
        "filtered_features=tf_idf(x)\n",
        "\n",
        "for i in range(0,len(L)):\n",
        "  t=L[i].split()\n",
        "  for w in t:\n",
        "    if w in filtered_features:\n",
        "\n",
        "      freq_features1.append(L[i])"
      ],
      "execution_count": null,
      "outputs": []
    },
    {
      "cell_type": "code",
      "metadata": {
        "id": "0RpTS029tUZQ"
      },
      "source": [
        "def get_adj(filtered_features):\n",
        "\n",
        " feat1, feat2, feat3, feat4, feat5 = ([] for i in range(5))\n",
        " feat6,feat7,feat8,feat9,feat10=([] for i in range(5))\n",
        " for s in freq_features:\n",
        "  \n",
        "  if s.find(filtered_features[0])>=0:\n",
        "    feat1.append(s.replace(filtered_features[0],''))\n",
        "  elif s.find(filtered_features[1])>=0:\n",
        "    feat2.append(s.replace(filtered_features[1],''))\n",
        "  elif s.find(filtered_features[2])>=0:\n",
        "    feat3.append(s.replace(filtered_features[2],''))\n",
        "  elif s.find(filtered_features[3])>=0:\n",
        "    feat4.append(s.replace(filtered_features[3],''))\n",
        "  elif s.find(filtered_features[4])>=0:\n",
        "    feat5.append(s.replace(filtered_features[4],''))\n",
        "  elif s.find(filtered_features[5])>=0:\n",
        "    feat6.append(s.replace(filtered_features[5],''))\n",
        "  elif s.find(filtered_features[6])>=0:\n",
        "    feat7.append(s.replace(filtered_features[6],''))\n",
        "  elif s.find(filtered_features[7])>=0:\n",
        "    feat8.append(s.replace(filtered_features[7],''))\n",
        "  elif s.find(filtered_features[8])>=0:\n",
        "    feat9.append(s.replace(filtered_features[8],''))\n",
        "  elif s.find(filtered_features[9])>=0:\n",
        "    feat10.append(s.replace(filtered_features[9],''))\n",
        "\n",
        " return feat1,feat2,feat3,feat4,feat5,feat6,feat7,feat8,feat9,feat10\n"
      ],
      "execution_count": null,
      "outputs": []
    },
    {
      "cell_type": "code",
      "metadata": {
        "id": "OELnHleyLppI"
      },
      "source": [
        "get_adj(filtered_features)"
      ],
      "execution_count": null,
      "outputs": []
    },
    {
      "cell_type": "markdown",
      "metadata": {
        "id": "MEHZTYMvWJLU"
      },
      "source": [
        "#Similarity_with_Spacy"
      ]
    },
    {
      "cell_type": "code",
      "metadata": {
        "id": "pMT6tSMRW7yB"
      },
      "source": [
        "clean_batterie_adj=[]\n",
        "for review in batterie_adj:\n",
        "  sentences=cube(review)\n",
        "  for s in sentences:\n",
        "    for i in s:\n",
        "      if i.upos=='ADJ':\n",
        "        clean_batterie_adj.append(i.lemma)"
      ],
      "execution_count": null,
      "outputs": []
    },
    {
      "cell_type": "code",
      "metadata": {
        "id": "JZxDLAfEZjgx"
      },
      "source": [
        "def get_sentiment(text):\n",
        "  sent = classifier(text)\n",
        "  #print(sent)\n",
        "  label,score = sent[0]['label'],sent[0]['score']\n",
        "  if label == '1 star' or label == '2 stars':\n",
        "    return \"Negative\"\n",
        "  elif label == '3 stars':\n",
        "    return \"Neutre\"\n",
        "  elif label == '4 stars' or label=='5 stars':\n",
        "    return \"Positive\"\n",
        "def polarity(sent_list):\n",
        " Pos=[]\n",
        " Neg=[]\n",
        " Neut=[]\n",
        " sentiment_list=[]\n",
        " for feat in sent_list:\n",
        "  x=get_sentiment(feat)\n",
        "  if x=='Positive':\n",
        "   Pos.append(feat)\n",
        "  elif x=='Negative':\n",
        "    Neg.append(feat)\n",
        "  else:\n",
        "    Neut.append(feat)\n",
        " return Pos,Neg,Neut   "
      ],
      "execution_count": null,
      "outputs": []
    },
    {
      "cell_type": "code",
      "metadata": {
        "id": "_-oyFl_JG_zp"
      },
      "source": [
        "l=polarity(clean_batterie_adj)[0]"
      ],
      "execution_count": null,
      "outputs": []
    },
    {
      "cell_type": "code",
      "metadata": {
        "id": "dbp9fWiflF7V"
      },
      "source": [
        "l1=polarity(clean_batterie_adj)[1]"
      ],
      "execution_count": null,
      "outputs": []
    },
    {
      "cell_type": "code",
      "metadata": {
        "id": "QQwJWM4vh91G"
      },
      "source": [
        "import spacy\n",
        "def listToString(s): \n",
        "    \n",
        "    # initialize an empty string\n",
        "    str1 = \" \"\n",
        "    return (str1.join(s))\n",
        "  \n",
        "nlp =fr_core_news_lg.load()\n",
        "def similarity(sent_list):  \n",
        "#print(\"Enter two space-separated words\")\n",
        " words = listToString(sent_list)\n",
        "  \n",
        " tokens = nlp(words)\n",
        " My_list=[]\n",
        " for token1 in tokens:\n",
        "  for token2 in tokens:\n",
        "    # Printing the following attributes of each token.\n",
        "    # text: the word string, has_vector: if it contains\n",
        "    # a vector representation in the model, \n",
        "    # vector_norm: the algebraic norm of the vector,\n",
        "    # is_oov: if the word is out of vocabulary.\n",
        "    #print(token.text, token.has_vector, token.vector_norm, token.is_oov)\n",
        "  \n",
        "#token1, token2 = tokens[0], tokens[1]\n",
        "#for i in range(1,len(tokens)):\n",
        "      if token1.similarity(token2)>0.6 and token1.similarity(token2)!=1.0:\n",
        "        #Pos1.remove(str (token2))\n",
        "        My_list.append((token1.text,token2.text))\n",
        "        \n",
        "  return My_list      #return (token1.text,token2.text, token1.similarity(token2))      #print((token1.text,token2.text),'similarity:',token1.similarity(token2))"
      ],
      "execution_count": null,
      "outputs": []
    },
    {
      "cell_type": "code",
      "metadata": {
        "colab": {
          "base_uri": "https://localhost:8080/"
        },
        "id": "U_dnTVr1Fbv8",
        "outputId": "59263ddd-3b88-41c0-e241-435c1280d43d"
      },
      "source": [
        "print('batterie\\n','pros:',l,'\\n cons:', l1)"
      ],
      "execution_count": null,
      "outputs": [
        {
          "output_type": "stream",
          "text": [
            "batterie\n",
            " pros: ['beau', 'bon', 'moderne', 'bon', 'grand', 'super', 'super', 'superbe', 'digne', 'portable', 'excellent', 'genial', 'tre', 'excellent', 'lte'] \n",
            " cons: ['décevant', 'faible', 'insuffisant', 'faible', 'défaillant', 'nul', 'excessif', 'difficile', 'médiocre', 'lamentable']\n"
          ],
          "name": "stdout"
        }
      ]
    },
    {
      "cell_type": "markdown",
      "metadata": {
        "id": "4PUYBS0DBDVC"
      },
      "source": [
        "#Similarity_with_fasttext"
      ]
    },
    {
      "cell_type": "code",
      "metadata": {
        "id": "6l2eentSEl4R"
      },
      "source": [
        "!pip install fasttext\n",
        "import fasttext.util\n",
        "fasttext.util.download_model('fr', if_exists='ignore')\n",
        "ft = fasttext.load_model('cc.fr.300.bin')"
      ],
      "execution_count": null,
      "outputs": []
    },
    {
      "cell_type": "code",
      "metadata": {
        "id": "MLcpiBevbOfu"
      },
      "source": [
        "syn=['beau','joli','mangifique']\n",
        "het=[]\n",
        "for w in syn:\n",
        "  L=ft.get_nearest_neighbors(w,k=10)\n",
        "  het.append(L)"
      ],
      "execution_count": null,
      "outputs": []
    },
    {
      "cell_type": "code",
      "metadata": {
        "id": "QBRdLRtumxrm"
      },
      "source": [
        "for i in range(0,len(syn)):\n",
        "  for s in syn[0]:\n",
        "    print(s[1])"
      ],
      "execution_count": null,
      "outputs": []
    },
    {
      "cell_type": "code",
      "metadata": {
        "id": "gIWO69j_fqbY"
      },
      "source": [
        "adjs=[]\n",
        "for i in range(0,len(syn)):\n",
        "  for s in syn[i]:\n",
        "    if s[0]>0.7:\n",
        "      adjs.append((l[i],s[1]))"
      ],
      "execution_count": null,
      "outputs": []
    },
    {
      "cell_type": "code",
      "metadata": {
        "id": "O9ADI6D0o7f2"
      },
      "source": [
        "adjs"
      ],
      "execution_count": null,
      "outputs": []
    },
    {
      "cell_type": "code",
      "metadata": {
        "id": "_VJnEnIfeTd9"
      },
      "source": [
        "l=list(dict.fromkeys(l))"
      ],
      "execution_count": null,
      "outputs": []
    },
    {
      "cell_type": "markdown",
      "metadata": {
        "id": "nD40Tqjt-DeD"
      },
      "source": [
        "============================================================================================================================================================"
      ]
    },
    {
      "cell_type": "code",
      "metadata": {
        "id": "ZLkLfLm2qj_F"
      },
      "source": [
        "K=[]\n",
        "for combination in zip(L, my_data['clean']):\n",
        "   K.append(combination)"
      ],
      "execution_count": null,
      "outputs": []
    },
    {
      "cell_type": "code",
      "metadata": {
        "colab": {
          "base_uri": "https://localhost:8080/"
        },
        "id": "5Y6ynfl5szvT",
        "outputId": "8ea5d3b6-8a09-43c8-b6c7-aea775eeee6a"
      },
      "source": [
        "K=list(my_data['clean'][0:20])\n",
        "patterns=L\n",
        "any([ p in s for p in patterns for s in K ])"
      ],
      "execution_count": null,
      "outputs": [
        {
          "output_type": "execute_result",
          "data": {
            "text/plain": [
              "True"
            ]
          },
          "metadata": {
            "tags": []
          },
          "execution_count": 32
        }
      ]
    },
    {
      "cell_type": "code",
      "metadata": {
        "id": "j53CbnwHwNDV"
      },
      "source": [
        "while x in \n",
        "  for i in range(0,len(K)):\n"
      ],
      "execution_count": null,
      "outputs": []
    }
  ]
}